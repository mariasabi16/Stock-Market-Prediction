{
  "nbformat": 4,
  "nbformat_minor": 0,
  "metadata": {
    "colab": {
      "provenance": [],
      "collapsed_sections": []
    },
    "kernelspec": {
      "name": "python3",
      "display_name": "Python 3"
    },
    "language_info": {
      "name": "python"
    }
  },
  "cells": [
    {
      "cell_type": "code",
      "execution_count": null,
      "metadata": {
        "colab": {
          "base_uri": "https://localhost:8080/"
        },
        "id": "MRy8zdato13_",
        "outputId": "b9923a9f-d353-4aba-e087-cecd5e469fdf"
      },
      "outputs": [
        {
          "output_type": "stream",
          "name": "stdout",
          "text": [
            "Mounted at /gdrive\n"
          ]
        }
      ],
      "source": [
        "from google.colab import drive\n",
        "drive.mount('/gdrive')"
      ]
    },
    {
      "cell_type": "code",
      "source": [
        "%cd /gdrive/MyDrive/Miniproject"
      ],
      "metadata": {
        "colab": {
          "base_uri": "https://localhost:8080/"
        },
        "id": "newtQgN8p4kr",
        "outputId": "ae47c765-3fd6-4926-c4e6-8ce46e989564"
      },
      "execution_count": null,
      "outputs": [
        {
          "output_type": "stream",
          "name": "stdout",
          "text": [
            "/gdrive/MyDrive/Miniproject\n"
          ]
        }
      ]
    },
    {
      "cell_type": "code",
      "source": [
        "import pandas as pd\n",
        "import sklearn as sk\n",
        "import matplotlib as mp\n",
        "import numpy as np\n",
        "import pickle as pi"
      ],
      "metadata": {
        "id": "GhskE02uqAmO"
      },
      "execution_count": null,
      "outputs": []
    },
    {
      "cell_type": "code",
      "source": [
        "df=pd.read_csv(\"dataset_train_validation.csv\")"
      ],
      "metadata": {
        "id": "dVI89PVIrYnf"
      },
      "execution_count": null,
      "outputs": []
    },
    {
      "cell_type": "code",
      "source": [
        "df.dropna(inplace=True)\n",
        "x=list(df.company.unique())\n",
        "y=[]\n",
        "for i in df['company']:\n",
        "  y.append(x.index(i))\n",
        "df['company']=y\n"
      ],
      "metadata": {
        "id": "JJvH6Kzsroh5"
      },
      "execution_count": null,
      "outputs": []
    },
    {
      "cell_type": "code",
      "source": [
        "features=df.iloc[:,[0,1]+[i for i in range(3,76)]]\n",
        "labels=df.iloc[:,-1]\n",
        "#print(features)"
      ],
      "metadata": {
        "id": "gtqVCx99sGkK"
      },
      "execution_count": null,
      "outputs": []
    },
    {
      "cell_type": "code",
      "source": [
        "from sklearn.model_selection import train_test_split\n",
        "x_train,x_test,y_train,y_test=train_test_split(features,labels,test_size=0.2,random_state=42)\n",
        "x_train,x_test,y_train,y_test"
      ],
      "metadata": {
        "colab": {
          "base_uri": "https://localhost:8080/"
        },
        "id": "68NGNxjQuyI3",
        "outputId": "5dc655c1-f927-49d8-ee6a-1dd2ecf53093"
      },
      "execution_count": null,
      "outputs": [
        {
          "output_type": "execute_result",
          "data": {
            "text/plain": [
              "(       company    age  year  month  day  hour  minute   volume        high  \\\n",
              " 68907      273  111.0  2021      7    6    15      30   225997      6.7300   \n",
              " 30795      122   51.0  2021      9   29    15      30   823044      4.1200   \n",
              " 86052      341  120.0  2021      6   22    15      30   243795     12.1500   \n",
              " 7636        30   76.0  2021      8   24    15      30   194767     14.9200   \n",
              " 85203      338   27.0  2021     11    2    14      30   109031     14.6500   \n",
              " ...        ...    ...   ...    ...  ...   ...     ...      ...         ...   \n",
              " 51770      205  110.0  2021      7    7    15      30    41422     74.0000   \n",
              " 8700        34  132.0  2021      6    4    15      30  1279834      0.9099   \n",
              " 76420      303   64.0  2021      9   10    15      30   223250     51.9800   \n",
              " 1165         4  157.0  2021      4   29    15      30  1024173     21.2200   \n",
              " 21993       87   69.0  2021      9    2    15      30   737107  28419.0000   \n",
              " \n",
              "            low  ...  MACD_50_OPENHIGH  AVERAGE_SMA_50_HIGHLOW  EMA_50_HIGHLOW  \\\n",
              " 68907   6.4900  ...          -40000.0                     0.3        290000.0   \n",
              " 30795   3.8800  ...          -10000.0                     0.2        220000.0   \n",
              " 86052  11.9700  ...               0.0                     0.3        260000.0   \n",
              " 7636   14.4500  ...          -90000.0                     0.7        720000.0   \n",
              " 85203  14.3400  ...           10000.0                     0.4        390000.0   \n",
              " ...        ...  ...               ...                     ...             ...   \n",
              " 51770  70.6400  ...         -260000.0                     1.8       1770000.0   \n",
              " 8700    0.8707  ...          -40000.0                     0.1         80000.0   \n",
              " 76420  50.4300  ...          -20000.0                     1.5       1480000.0   \n",
              " 1165   20.4300  ...         -320000.0                     1.5       1540000.0   \n",
              " 21993  27.6800  ...           90000.0                     0.8        780000.0   \n",
              " \n",
              "        MACD_50_HIGHLOW  AVERAGE_SMA_50_VOLUME  EMA_50_VOLUME  MACD_50_VOLUME  \\\n",
              " 68907          20000.0               335846.0   8.385309e+08   -1.806528e+09   \n",
              " 30795          30000.0               682919.8   1.997994e+07    2.245816e+08   \n",
              " 86052          10000.0               436584.8  -1.501864e+09   -1.611692e+09   \n",
              " 7636          100000.0               440735.8  -1.645831e+09   -9.247408e+08   \n",
              " 85203         -10000.0                85753.7  -1.456859e+08    1.696845e+09   \n",
              " ...                ...                    ...            ...             ...   \n",
              " 51770         300000.0                31125.0   1.060209e+09   -1.725067e+09   \n",
              " 8700           30000.0              3454238.1   1.084394e+09   -1.718469e+08   \n",
              " 76420          30000.0               135225.3   2.081334e+09    2.916054e+08   \n",
              " 1165          540000.0              2920534.8  -4.300128e+07    1.505680e+09   \n",
              " 21993         -80000.0              1159423.1  -2.180499e+08   -1.915466e+09   \n",
              " \n",
              "        DAYS_UNTIL_END_OF_MONTH  DAYS_UNTIL_END_OF_TRIMESTER  DINAMIC3  \n",
              " 68907                     18.0                         18.0  674.0000  \n",
              " 30795                     18.0                         18.0    1.0218  \n",
              " 86052                     18.0                         18.0    0.5229  \n",
              " 7636                      18.0                         18.0    0.4121  \n",
              " 85203                     18.0                         18.0    1.3899  \n",
              " ...                        ...                          ...       ...  \n",
              " 51770                     18.0                         18.0    1.2874  \n",
              " 8700                      18.0                         18.0  324.0000  \n",
              " 76420                     18.0                         18.0    1.7116  \n",
              " 1165                      18.0                         18.0    0.2399  \n",
              " 21993                     18.0                         18.0    0.7266  \n",
              " \n",
              " [57485 rows x 75 columns],\n",
              "        company    age  year  month  day  hour  minute    volume     high  \\\n",
              " 74651      296   59.0  2021      9   17    15      30  11533773  8195.00   \n",
              " 43134      171   42.0  2021     10   12    15      30    228495     5.57   \n",
              " 54803      217  119.0  2021      6   23    15      30    165746    15.20   \n",
              " 12383       49   35.0  2021     10   21    15      30    253571    57.15   \n",
              " 19229       76   77.0  2021      8   23    15      30     41031    66.50   \n",
              " ...        ...    ...   ...    ...  ...   ...     ...       ...      ...   \n",
              " 95100      377   96.0  2021      7   27    15      30    147387    13.14   \n",
              " 53277      211  105.0  2021      7   14    15      30    270354    17.00   \n",
              " 52232      207   68.0  2021      9    3    15      30     31917     3.33   \n",
              " 64146      254  138.0  2021      5   26    15      30    836805    78.17   \n",
              " 16782       66  150.0  2021      5   10    15      30    193851   100.20   \n",
              " \n",
              "               low  ...  MACD_50_OPENHIGH  AVERAGE_SMA_50_HIGHLOW  \\\n",
              " 74651      7.6200  ...           50000.0                     0.7   \n",
              " 43134      5.0600  ...          -50000.0                     0.5   \n",
              " 54803     14.3500  ...          100000.0                     1.1   \n",
              " 12383     55.8900  ...           10000.0                     1.7   \n",
              " 19229  65435.0000  ...          190000.0                     2.8   \n",
              " ...           ...  ...               ...                     ...   \n",
              " 95100     12.6200  ...          -70000.0                     0.8   \n",
              " 53277     16.4000  ...          -20000.0                     0.6   \n",
              " 52232      3.2200  ...          -10000.0                     0.2   \n",
              " 64146     76.8425  ...           80000.0                     1.8   \n",
              " 16782     94.9100  ...         -990000.0                     5.6   \n",
              " \n",
              "        EMA_50_HIGHLOW  MACD_50_HIGHLOW  AVERAGE_SMA_50_VOLUME  EMA_50_VOLUME  \\\n",
              " 74651        720000.0        -130000.0              6902349.8   3.373153e+08   \n",
              " 43134        470000.0          20000.0               373083.4  -5.787948e+08   \n",
              " 54803       1130000.0         -50000.0                90220.0   2.564678e+07   \n",
              " 12383       1750000.0         -70000.0               220182.9   1.139528e+09   \n",
              " 19229       2810000.0        -120000.0                53397.9   1.858252e+09   \n",
              " ...               ...              ...                    ...            ...   \n",
              " 95100        770000.0          10000.0               216550.4   1.802055e+09   \n",
              " 53277        600000.0              0.0               315756.9  -2.070720e+09   \n",
              " 52232        200000.0          30000.0                53135.5   1.595892e+09   \n",
              " 64146       1760000.0         -70000.0               908822.3  -1.710767e+09   \n",
              " 16782       5640000.0        1150000.0               201152.6  -7.108229e+08   \n",
              " \n",
              "        MACD_50_VOLUME  DAYS_UNTIL_END_OF_MONTH  DAYS_UNTIL_END_OF_TRIMESTER  \\\n",
              " 74651   -2.048313e+09                     18.0                         18.0   \n",
              " 43134   -1.748201e+09                     18.0                         18.0   \n",
              " 54803    5.328648e+07                     18.0                         18.0   \n",
              " 12383    6.128238e+08                     18.0                         18.0   \n",
              " 19229   -1.943939e+09                     18.0                         18.0   \n",
              " ...               ...                      ...                          ...   \n",
              " 95100   -5.143308e+08                     18.0                         18.0   \n",
              " 53277   -7.314581e+08                     18.0                         18.0   \n",
              " 52232   -2.264146e+08                     18.0                         18.0   \n",
              " 64146    1.766565e+09                     18.0                         18.0   \n",
              " 16782    1.862072e+09                     18.0                         18.0   \n",
              " \n",
              "        DINAMIC3  \n",
              " 74651    1.6731  \n",
              " 43134    0.4900  \n",
              " 54803    1.7363  \n",
              " 12383    1.1537  \n",
              " 19229    0.7634  \n",
              " ...         ...  \n",
              " 95100    0.5894  \n",
              " 53277    0.8389  \n",
              " 52232    0.5759  \n",
              " 64146    0.9158  \n",
              " 16782    0.8207  \n",
              " \n",
              " [14372 rows x 75 columns],\n",
              " 68907    0.0\n",
              " 30795    0.0\n",
              " 86052    0.0\n",
              " 7636     0.0\n",
              " 85203    0.0\n",
              "         ... \n",
              " 51770    0.0\n",
              " 8700     0.0\n",
              " 76420    0.0\n",
              " 1165     0.0\n",
              " 21993    0.0\n",
              " Name: TARGET, Length: 57485, dtype: float64,\n",
              " 74651    0.0\n",
              " 43134    0.0\n",
              " 54803    0.0\n",
              " 12383    0.0\n",
              " 19229    0.0\n",
              "         ... \n",
              " 95100    0.0\n",
              " 53277    0.0\n",
              " 52232    0.0\n",
              " 64146    0.0\n",
              " 16782    0.0\n",
              " Name: TARGET, Length: 14372, dtype: float64)"
            ]
          },
          "metadata": {},
          "execution_count": 34
        }
      ]
    },
    {
      "cell_type": "code",
      "source": [
        "from sklearn.tree import DecisionTreeClassifier\n",
        "dtc = DecisionTreeClassifier()\n",
        "dtc.fit(x_train, y_train)"
      ],
      "metadata": {
        "colab": {
          "base_uri": "https://localhost:8080/"
        },
        "id": "wpLpZ2IUvIjj",
        "outputId": "5c72e9ca-3123-42db-b72e-1d2db61aa4ba"
      },
      "execution_count": null,
      "outputs": [
        {
          "output_type": "execute_result",
          "data": {
            "text/plain": [
              "DecisionTreeClassifier()"
            ]
          },
          "metadata": {},
          "execution_count": 35
        }
      ]
    },
    {
      "cell_type": "code",
      "source": [
        "y_pred_dtc = dtc.predict(x_test)\n",
        "from sklearn.metrics import accuracy_score\n",
        "accuracy_score(y_test,y_pred_dtc)"
      ],
      "metadata": {
        "colab": {
          "base_uri": "https://localhost:8080/"
        },
        "id": "8pGpQj1ZvQD9",
        "outputId": "606f201e-83d9-43e9-fe6f-8ac75ae7e934"
      },
      "execution_count": null,
      "outputs": [
        {
          "output_type": "execute_result",
          "data": {
            "text/plain": [
              "0.9503200667965488"
            ]
          },
          "metadata": {},
          "execution_count": 36
        }
      ]
    }
  ]
}