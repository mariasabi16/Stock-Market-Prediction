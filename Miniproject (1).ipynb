{
  "nbformat": 4,
  "nbformat_minor": 0,
  "metadata": {
    "colab": {
      "provenance": [],
      "collapsed_sections": []
    },
    "kernelspec": {
      "name": "python3",
      "display_name": "Python 3"
    },
    "language_info": {
      "name": "python"
    }
  },
  "cells": [
    {
      "cell_type": "code",
      "execution_count": 1,
      "metadata": {
        "colab": {
          "base_uri": "https://localhost:8080/"
        },
        "id": "MRy8zdato13_",
        "outputId": "5c79d24c-9c27-4c4c-b8b4-c8bf04e92556"
      },
      "outputs": [
        {
          "output_type": "stream",
          "name": "stdout",
          "text": [
            "Mounted at /gdrive\n"
          ]
        }
      ],
      "source": [
        "from google.colab import drive\n",
        "drive.mount('/gdrive')"
      ]
    },
    {
      "cell_type": "code",
      "source": [
        "%cd /gdrive/MyDrive/Miniproject"
      ],
      "metadata": {
        "colab": {
          "base_uri": "https://localhost:8080/"
        },
        "id": "newtQgN8p4kr",
        "outputId": "30a34cd9-99b9-411e-85a5-b527ebeac3d2"
      },
      "execution_count": 2,
      "outputs": [
        {
          "output_type": "stream",
          "name": "stdout",
          "text": [
            "/gdrive/MyDrive/Miniproject\n"
          ]
        }
      ]
    },
    {
      "cell_type": "code",
      "source": [
        "import pandas as pd\n",
        "import sklearn as sk\n",
        "import matplotlib as mp\n",
        "import numpy as np\n",
        "import pickle as pi"
      ],
      "metadata": {
        "id": "GhskE02uqAmO"
      },
      "execution_count": 3,
      "outputs": []
    },
    {
      "cell_type": "code",
      "source": [
        "df=pd.read_csv(\"dataset_train_validation.csv\")"
      ],
      "metadata": {
        "id": "dVI89PVIrYnf"
      },
      "execution_count": 4,
      "outputs": []
    },
    {
      "cell_type": "code",
      "source": [
        "df.dropna(inplace=True)\n",
        "x=list(df.company.unique())\n",
        "y=[]\n",
        "for i in df['company']:\n",
        "  y.append(x.index(i))\n",
        "df['company']=y\n"
      ],
      "metadata": {
        "id": "JJvH6Kzsroh5"
      },
      "execution_count": 5,
      "outputs": []
    },
    {
      "cell_type": "code",
      "source": [
        "features=df.iloc[:,[0,1]+[i for i in range(3,76)]]\n",
        "labels=df.iloc[:,-1]\n",
        "#print(features)"
      ],
      "metadata": {
        "id": "gtqVCx99sGkK"
      },
      "execution_count": 6,
      "outputs": []
    },
    {
      "cell_type": "code",
      "source": [
        "from sklearn.model_selection import train_test_split\n",
        "x_train,x_test,y_train,y_test=train_test_split(features,labels,test_size=0.2,random_state=8)\n",
        "x_train,x_test,y_train,y_test"
      ],
      "metadata": {
        "colab": {
          "base_uri": "https://localhost:8080/"
        },
        "id": "68NGNxjQuyI3",
        "outputId": "db780b14-c92a-4342-d1a3-552576318845"
      },
      "execution_count": 7,
      "outputs": [
        {
          "output_type": "execute_result",
          "data": {
            "text/plain": [
              "(       company    age  year  month  day  hour  minute    volume     high  \\\n",
              " 87593      347  149.0  2021      5   11    15      30   1942882     7.25   \n",
              " 42431      168   95.0  2021      7   28    15      30  15509081    14.50   \n",
              " 46156      183   40.0  2021     10   14    15      30    653198  3265.00   \n",
              " 69737      276  185.0  2021      3   19    14      30    235990     4.87   \n",
              " 84802      336  130.0  2021      6    8    15      30    445933     1.60   \n",
              " ...        ...    ...   ...    ...  ...   ...     ...       ...      ...   \n",
              " 14444       57   80.0  2021      8   18    15      30     60308    11.00   \n",
              " 86871      344  183.0  2021      3   23    14      30   2174590    37.21   \n",
              " 25609      101  157.0  2021      4   29    15      30    488722    16.54   \n",
              " 36114      143   78.0  2021      8   20    15      30     89513     8.64   \n",
              " 97581      387   57.0  2021      9   21    15      30     46122     3.71   \n",
              " \n",
              "            low  ...  MACD_50_OPENHIGH  AVERAGE_SMA_50_HIGHLOW  EMA_50_HIGHLOW  \\\n",
              " 87593   6.7500  ...          -10000.0                     0.6        620000.0   \n",
              " 42431  11.3600  ...          -40000.0                     0.7        650000.0   \n",
              " 46156   3.0000  ...           20000.0                     0.2        220000.0   \n",
              " 69737   4.4900  ...          -30000.0                     0.4        400000.0   \n",
              " 84802   1.5121  ...          -20000.0                     0.1        110000.0   \n",
              " ...        ...  ...               ...                     ...             ...   \n",
              " 14444  10.3600  ...          -20000.0                     0.8        770000.0   \n",
              " 86871  36.5400  ...          -90000.0                     0.9        920000.0   \n",
              " 25609  16.0700  ...           30000.0                     0.9        860000.0   \n",
              " 36114   8.0700  ...          -30000.0                     0.6        640000.0   \n",
              " 97581   3.5500  ...           40000.0                     0.2        230000.0   \n",
              " \n",
              "        MACD_50_HIGHLOW  AVERAGE_SMA_50_VOLUME  EMA_50_VOLUME  MACD_50_VOLUME  \\\n",
              " 87593         180000.0              1292408.5  -3.766361e+08   -9.836720e+08   \n",
              " 42431          30000.0              3266911.4  -1.558752e+09   -3.032681e+08   \n",
              " 46156              0.0               462891.4  -9.650880e+08    6.412138e+08   \n",
              " 69737          20000.0               358250.1   1.767854e+09    1.061658e+09   \n",
              " 84802          20000.0               679848.1   1.243227e+09   -1.906866e+09   \n",
              " ...                ...                    ...            ...             ...   \n",
              " 14444          90000.0               117122.5   1.158423e+09    1.935382e+09   \n",
              " 86871          50000.0              1638182.3   1.799800e+09   -1.278995e+09   \n",
              " 25609         -40000.0              1596130.3  -1.597554e+09    8.793935e+08   \n",
              " 36114          10000.0               176639.7   5.460809e+08    4.726097e+08   \n",
              " 97581              0.0               145468.5  -5.603681e+08   -7.320319e+08   \n",
              " \n",
              "        DAYS_UNTIL_END_OF_MONTH  DAYS_UNTIL_END_OF_TRIMESTER  DINAMIC3  \n",
              " 87593                     18.0                         18.0    1.2557  \n",
              " 42431                     18.0                         18.0    5.2814  \n",
              " 46156                     18.0                         18.0    1.2073  \n",
              " 69737                     18.0                         18.0    0.6461  \n",
              " 84802                     18.0                         18.0    0.6909  \n",
              " ...                        ...                          ...       ...  \n",
              " 14444                     18.0                         18.0    0.4306  \n",
              " 86871                     18.0                         18.0    1.3836  \n",
              " 25609                     18.0                         18.0  321.0000  \n",
              " 36114                     18.0                         18.0    0.4899  \n",
              " 97581                     18.0                         18.0    0.2987  \n",
              " \n",
              " [57485 rows x 75 columns],\n",
              "        company    age  year  month  day  hour  minute   volume        high  \\\n",
              " 28595      113  119.0  2021      6   23    15      30   144389      8.8400   \n",
              " 28053      111   81.0  2021      8   17    15      30   119389      6.0200   \n",
              " 60360      239  132.0  2021      6    4    15      30     2580  20295.0000   \n",
              " 74621      296   29.0  2021     10   29    15      30  3649199      8.9699   \n",
              " 19818       78  162.0  2021      4   22    15      30   306503     23.3100   \n",
              " ...        ...    ...   ...    ...  ...   ...     ...      ...         ...   \n",
              " 674          2  170.0  2021      4   12    15      30    48166     40.9700   \n",
              " 84234      334   66.0  2021      9    8    15      30  1663294     76.1900   \n",
              " 4559        18   23.0  2021     11    8    15      30  1793772      1.4100   \n",
              " 70982      281  170.0  2021      4   12    15      30    55627     13.0000   \n",
              " 36108      143   72.0  2021      8   30    15      30   223557     10.7311   \n",
              " \n",
              "             low  ...  MACD_50_OPENHIGH  AVERAGE_SMA_50_HIGHLOW  \\\n",
              " 28595      8.63  ...           10000.0                     0.4   \n",
              " 28053      5.82  ...          110000.0                     0.5   \n",
              " 60360     19.64  ...         -190000.0                     1.0   \n",
              " 74621      8.57  ...          -40000.0                     0.6   \n",
              " 19818  21915.00  ...         -170000.0                     2.4   \n",
              " ...         ...  ...               ...                     ...   \n",
              " 674       39.28  ...          170000.0                     1.4   \n",
              " 84234     75.50  ...          -20000.0                     1.1   \n",
              " 4559    1335.00  ...          -10000.0                     0.1   \n",
              " 70982     12.07  ...         -160000.0                     1.1   \n",
              " 36108      9.67  ...          -60000.0                     0.7   \n",
              " \n",
              "        EMA_50_HIGHLOW  MACD_50_HIGHLOW  AVERAGE_SMA_50_VOLUME  EMA_50_VOLUME  \\\n",
              " 28595        390000.0         -30000.0               156028.4   1.409557e+09   \n",
              " 28053        470000.0        -120000.0              1053604.4   1.337452e+09   \n",
              " 60360        970000.0         450000.0                 8085.1  -5.048146e+08   \n",
              " 74621        650000.0          70000.0              7199169.5   8.042719e+08   \n",
              " 19818       2370000.0         480000.0               430061.6   5.648904e+08   \n",
              " ...               ...              ...                    ...            ...   \n",
              " 674         1360000.0        -200000.0                76892.4  -4.169913e+08   \n",
              " 84234       1120000.0         -40000.0              2055247.4  -2.041895e+09   \n",
              " 4559          70000.0              0.0              3288582.3  -1.362629e+09   \n",
              " 70982       1080000.0         210000.0               112890.3   1.221170e+09   \n",
              " 36108        660000.0         110000.0               182783.4  -1.900154e+09   \n",
              " \n",
              "        MACD_50_VOLUME  DAYS_UNTIL_END_OF_MONTH  DAYS_UNTIL_END_OF_TRIMESTER  \\\n",
              " 28595   -3.852119e+08                     18.0                         18.0   \n",
              " 28053    1.008402e+09                     18.0                         18.0   \n",
              " 60360   -1.424755e+09                     18.0                         18.0   \n",
              " 74621   -1.876012e+09                     18.0                         18.0   \n",
              " 19818   -1.172575e+09                     18.0                         18.0   \n",
              " ...               ...                      ...                          ...   \n",
              " 674      1.467546e+08                     18.0                         18.0   \n",
              " 84234   -1.215226e+08                     18.0                         18.0   \n",
              " 4559    -8.297701e+07                     18.0                         18.0   \n",
              " 70982    9.845124e+08                     18.0                         18.0   \n",
              " 36108    1.999962e+09                     18.0                         18.0   \n",
              " \n",
              "        DINAMIC3  \n",
              " 28595    1.1802  \n",
              " 28053  108.0000  \n",
              " 60360    0.3049  \n",
              " 74621    0.5499  \n",
              " 19818    0.5537  \n",
              " ...         ...  \n",
              " 674      0.6517  \n",
              " 84234    0.7791  \n",
              " 4559     0.6273  \n",
              " 70982    0.4158  \n",
              " 36108    1.4577  \n",
              " \n",
              " [14372 rows x 75 columns],\n",
              " 87593    0.0\n",
              " 42431    0.0\n",
              " 46156    0.0\n",
              " 69737    0.0\n",
              " 84802    0.0\n",
              "         ... \n",
              " 14444    1.0\n",
              " 86871    0.0\n",
              " 25609    0.0\n",
              " 36114    1.0\n",
              " 97581    0.0\n",
              " Name: TARGET, Length: 57485, dtype: float64,\n",
              " 28595    0.0\n",
              " 28053    0.0\n",
              " 60360    0.0\n",
              " 74621    0.0\n",
              " 19818    0.0\n",
              "         ... \n",
              " 674      0.0\n",
              " 84234    0.0\n",
              " 4559     0.0\n",
              " 70982    0.0\n",
              " 36108    0.0\n",
              " Name: TARGET, Length: 14372, dtype: float64)"
            ]
          },
          "metadata": {},
          "execution_count": 7
        }
      ]
    },
    {
      "cell_type": "code",
      "source": [
        "from sklearn.tree import DecisionTreeClassifier\n",
        "dtc = DecisionTreeClassifier()\n",
        "dtc.fit(x_train, y_train)"
      ],
      "metadata": {
        "colab": {
          "base_uri": "https://localhost:8080/"
        },
        "id": "wpLpZ2IUvIjj",
        "outputId": "2f1ca9c4-7dfd-46cf-f437-b0a4d321f4cf"
      },
      "execution_count": 8,
      "outputs": [
        {
          "output_type": "execute_result",
          "data": {
            "text/plain": [
              "DecisionTreeClassifier()"
            ]
          },
          "metadata": {},
          "execution_count": 8
        }
      ]
    },
    {
      "cell_type": "code",
      "source": [
        "y_pred_dtc = dtc.predict(x_test)\n",
        "from sklearn.metrics import accuracy_score\n",
        "accuracy_score(y_test,y_pred_dtc)"
      ],
      "metadata": {
        "colab": {
          "base_uri": "https://localhost:8080/"
        },
        "id": "8pGpQj1ZvQD9",
        "outputId": "420b4e82-0afd-4431-dade-d3db0c03e86a"
      },
      "execution_count": 9,
      "outputs": [
        {
          "output_type": "execute_result",
          "data": {
            "text/plain": [
              "0.9561647648204843"
            ]
          },
          "metadata": {},
          "execution_count": 9
        }
      ]
    }
  ]
}